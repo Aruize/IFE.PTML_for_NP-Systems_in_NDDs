{
 "cells": [
  {
   "cell_type": "code",
   "execution_count": 18,
   "metadata": {},
   "outputs": [],
   "source": [
    "import pandas as pd\n",
    "import joblib\n"
   ]
  },
  {
   "cell_type": "markdown",
   "metadata": {},
   "source": [
    "## Load the model, dataset for predictions and saved model features"
   ]
  },
  {
   "cell_type": "code",
   "execution_count": 19,
   "metadata": {},
   "outputs": [],
   "source": [
    "# Load the saved RandomForest model\n",
    "rf_model = joblib.load('RF.pkl')"
   ]
  },
  {
   "cell_type": "code",
   "execution_count": 20,
   "metadata": {},
   "outputs": [],
   "source": [
    "pred_df = pd.read_excel('PMAO-PEI_predictions.xlsx')"
   ]
  },
  {
   "cell_type": "code",
   "execution_count": 21,
   "metadata": {},
   "outputs": [],
   "source": [
    "best_features_rf = ['f(vij)npref', 'DLnp(cn02-cn07)', 'DEnpu(cn02-cn07)', 'DLASAcoat(cn02-cn07)', 'DLnp(cn08-cn10)', 'Dtime(h)(cn02-cn07)']"
   ]
  },
  {
   "cell_type": "markdown",
   "metadata": {},
   "source": [
    "## Predictions"
   ]
  },
  {
   "cell_type": "code",
   "execution_count": 22,
   "metadata": {},
   "outputs": [],
   "source": [
    "# Select the params for RF model\n",
    "rf_df = pred_df[best_features_rf]\n",
    "\n",
    "# Make the redictions\n",
    "predictions = rf_model.predict(rf_df)\n",
    "probabilities = rf_model.predict_proba(rf_df)[:, 1] #Probability of label 1\n",
    "\n",
    "results_df = pd.DataFrame({\n",
    "    'INDEX': pred_df['INDEX'],\n",
    "    'PREDICTED_LABEL': predictions,\n",
    "    'PROBABILITY_LABEL_1': probabilities\n",
    "})\n",
    "\n",
    "output_file = 'PMAO_PEI_results.xlsx'\n",
    "results_df.to_excel(output_file, index=False)"
   ]
  },
  {
   "cell_type": "code",
   "execution_count": null,
   "metadata": {},
   "outputs": [],
   "source": []
  }
 ],
 "metadata": {
  "kernelspec": {
   "display_name": "base",
   "language": "python",
   "name": "python3"
  },
  "language_info": {
   "codemirror_mode": {
    "name": "ipython",
    "version": 3
   },
   "file_extension": ".py",
   "mimetype": "text/x-python",
   "name": "python",
   "nbconvert_exporter": "python",
   "pygments_lexer": "ipython3",
   "version": "3.11.8"
  }
 },
 "nbformat": 4,
 "nbformat_minor": 2
}
